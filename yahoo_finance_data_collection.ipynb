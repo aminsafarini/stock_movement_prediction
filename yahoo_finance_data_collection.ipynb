{
 "cells": [
  {
   "cell_type": "code",
   "execution_count": 1,
   "metadata": {
    "collapsed": true
   },
   "outputs": [],
   "source": [
    "import yfinance as yf # yahoo finance library\n",
    "import pandas as pd\n",
    "from datetime import datetime\n",
    "from dateutil.relativedelta import relativedelta"
   ]
  },
  {
   "cell_type": "code",
   "execution_count": 2,
   "metadata": {
    "collapsed": true
   },
   "outputs": [],
   "source": [
    "def get_stock_data(STOCK_ID, start_time, end_time):\n",
    "    stock_df = yf.download(STOCK_ID, \n",
    "                           start=start_time, \n",
    "                           end=end_time, \n",
    "                           progress=False)\n",
    "    return stock_df"
   ]
  },
  {
   "cell_type": "code",
   "execution_count": 3,
   "metadata": {
    "collapsed": true
   },
   "outputs": [],
   "source": [
    "def get_start_and_end_dates(difference=1):\n",
    "    \n",
    "    start_date = datetime.now() \n",
    "    end_date = datetime.now() + relativedelta(days=difference)\n",
    "    \n",
    "\n",
    "    start_date = f'{start_date.year}-{start_date.month}-{start_date.day}'\n",
    "    end_date = f'{end_date.year}-{end_date.month}-{end_date.day}'\n",
    "    \n",
    "    return start_date, end_date"
   ]
  },
  {
   "cell_type": "code",
   "execution_count": 4,
   "metadata": {
    "collapsed": true
   },
   "outputs": [],
   "source": [
    "STOCK_ID = '^DJI'    # DJIA (Dow Jones Industrial Average)"
   ]
  },
  {
   "cell_type": "code",
   "execution_count": 5,
   "metadata": {},
   "outputs": [],
   "source": [
    "dates = get_start_and_end_dates()"
   ]
  },
  {
   "cell_type": "code",
   "execution_count": 6,
   "metadata": {},
   "outputs": [],
   "source": [
    "# there are usually 2 records for the the current data nad the 2nd record should be selected\n",
    "\n",
    "try:\n",
    "    stock_data = get_stock_data(STOCK_ID, start_time = dates[0], end_time = dates[1]).iloc[1]\n",
    "except:\n",
    "    stock_data = get_stock_data(STOCK_ID, start_time = dates[0], end_time = dates[1]).iloc[0]"
   ]
  },
  {
   "cell_type": "code",
   "execution_count": 7,
   "metadata": {},
   "outputs": [
    {
     "data": {
      "text/plain": [
       "Open         3.119801e+04\n",
       "High         3.127222e+04\n",
       "Low          3.112092e+04\n",
       "Close        3.117601e+04\n",
       "Adj Close    3.117601e+04\n",
       "Volume       4.231550e+08\n",
       "Name: 2021-01-21 00:00:00, dtype: float64"
      ]
     },
     "execution_count": 7,
     "metadata": {},
     "output_type": "execute_result"
    }
   ],
   "source": [
    "stock_data"
   ]
  }
 ],
 "metadata": {
  "kernelspec": {
   "display_name": "Python 3",
   "language": "python",
   "name": "python3"
  },
  "language_info": {
   "codemirror_mode": {
    "name": "ipython",
    "version": 3
   },
   "file_extension": ".py",
   "mimetype": "text/x-python",
   "name": "python",
   "nbconvert_exporter": "python",
   "pygments_lexer": "ipython3",
   "version": "3.6.2"
  }
 },
 "nbformat": 4,
 "nbformat_minor": 2
}
