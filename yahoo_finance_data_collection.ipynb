{
 "cells": [
  {
   "cell_type": "code",
   "execution_count": 1,
   "metadata": {
    "collapsed": true
   },
   "outputs": [],
   "source": [
    "import yfinance as yf # yahoo finance library\n",
    "import pandas as pd\n",
    "from datetime import datetime\n",
    "from dateutil.relativedelta import relativedelta"
   ]
  },
  {
   "cell_type": "code",
   "execution_count": 2,
   "metadata": {
    "collapsed": true
   },
   "outputs": [],
   "source": [
    "def get_stock_data(STOCK_ID, start_time, end_time):\n",
    "    stock_df = yf.download(STOCK_ID, \n",
    "                           start=start_time, \n",
    "                           end=end_time, \n",
    "                           progress=False)\n",
    "    return stock_df"
   ]
  },
  {
   "cell_type": "code",
   "execution_count": 3,
   "metadata": {
    "collapsed": true
   },
   "outputs": [],
   "source": [
    "def get_start_and_end_dates(difference=1):\n",
    "    \n",
    "    start_date = datetime.now()\n",
    "    end_date = datetime.now() + relativedelta(days=difference) \n",
    "    \n",
    "\n",
    "    start_date = f'{start_date.year}-{start_date.month}-{start_date.day}'\n",
    "    end_date = f'{end_date.year}-{end_date.month}-{end_date.day}'\n",
    "    \n",
    "    return start_date, end_date"
   ]
  },
  {
   "cell_type": "code",
   "execution_count": 4,
   "metadata": {
    "collapsed": true
   },
   "outputs": [],
   "source": [
    "STOCK_ID = '^DJI'    # DJIA (Dow Jones Industrial Average)"
   ]
  },
  {
   "cell_type": "code",
   "execution_count": 5,
   "metadata": {
    "collapsed": true
   },
   "outputs": [],
   "source": [
    "dates = get_start_and_end_dates()"
   ]
  },
  {
   "cell_type": "code",
   "execution_count": 6,
   "metadata": {
    "collapsed": true
   },
   "outputs": [],
   "source": [
    "# there are usually 2 records for the the current data nad the 2nd record should be selected\n",
    "\n",
    "try:\n",
    "    stock_data = get_stock_data(STOCK_ID, start_time = dates[0], end_time = dates[1]).iloc[1]\n",
    "except:\n",
    "    stock_data = get_stock_data(STOCK_ID, start_time = dates[0], end_time = dates[1]).iloc[0]"
   ]
  },
  {
   "cell_type": "code",
   "execution_count": 7,
   "metadata": {
    "scrolled": false
   },
   "outputs": [
    {
     "data": {
      "text/plain": [
       "Open         3.119801e+04\n",
       "High         3.127222e+04\n",
       "Low          3.112092e+04\n",
       "Close        3.117601e+04\n",
       "Adj Close    3.117601e+04\n",
       "Volume       4.231550e+08\n",
       "Name: 2021-01-21 00:00:00, dtype: float64"
      ]
     },
     "execution_count": 7,
     "metadata": {},
     "output_type": "execute_result"
    }
   ],
   "source": [
    "stock_data"
   ]
  },
  {
   "cell_type": "code",
   "execution_count": 8,
   "metadata": {},
   "outputs": [],
   "source": [
    "# closing price\n",
    "closing_price = list(stock_data)[2]"
   ]
  },
  {
   "cell_type": "code",
   "execution_count": 9,
   "metadata": {},
   "outputs": [],
   "source": [
    "closing_price_str = str(closing_price)"
   ]
  },
  {
   "cell_type": "code",
   "execution_count": 10,
   "metadata": {
    "collapsed": true
   },
   "outputs": [],
   "source": [
    "# the name that will be given to the output file\n",
    "\n",
    "file_name = f'{datetime.now().year}-{datetime.now().month}-{datetime.now().day}_DJIA_price.txt'"
   ]
  },
  {
   "cell_type": "code",
   "execution_count": 11,
   "metadata": {},
   "outputs": [],
   "source": [
    "# writing the file\n",
    "\n",
    "with open(file_name, \"w\") as outfile:\n",
    "    outfile.write(closing_price_str)"
   ]
  },
  {
   "cell_type": "markdown",
   "metadata": {},
   "source": [
    "## Uploading Data to AWS S3"
   ]
  },
  {
   "cell_type": "code",
   "execution_count": 12,
   "metadata": {},
   "outputs": [
    {
     "name": "stdout",
     "output_type": "stream",
     "text": [
      "Done\n"
     ]
    }
   ],
   "source": [
    "import boto3\n",
    "from botocore.client import Config\n",
    "\n",
    "ACCESS_KEY_ID = ''\n",
    "ACCESS_SECRET_KEY = ''\n",
    "BUCKET_NAME = ''\n",
    "\n",
    "data = open(file_name, 'rb')\n",
    "\n",
    "s3 = boto3.resource(\n",
    "    's3',\n",
    "    aws_access_key_id=ACCESS_KEY_ID,\n",
    "    aws_secret_access_key=ACCESS_SECRET_KEY,\n",
    "    config=Config(signature_version='s3v4')\n",
    ")\n",
    "\n",
    "s3.Bucket(BUCKET_NAME).put_object(Key=f'DJIA_index_price/{file_name}', Body=data)\n",
    "\n",
    "print (\"Done\")"
   ]
  }
 ],
 "metadata": {
  "kernelspec": {
   "display_name": "Python 3",
   "language": "python",
   "name": "python3"
  },
  "language_info": {
   "codemirror_mode": {
    "name": "ipython",
    "version": 3
   },
   "file_extension": ".py",
   "mimetype": "text/x-python",
   "name": "python",
   "nbconvert_exporter": "python",
   "pygments_lexer": "ipython3",
   "version": "3.6.2"
  }
 },
 "nbformat": 4,
 "nbformat_minor": 2
}
